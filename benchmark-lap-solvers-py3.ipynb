{
 "cells": [
  {
   "cell_type": "markdown",
   "metadata": {},
   "source": [
    "# Benchmarking Python3 LAP Solvers\n",
    "\n",
    "The scripts benchmark the performance of Python3 linear assignment problem (LAP) solvers for random cost matrices of different sizes. **They have been rested to work with Python 3.6 and 3.7**  These solvers are:\n",
    "\n",
    "* **linear_sum_assignment** - a Python implementation of the Hungarian algorithm provided in SciPy\n",
    "  * https://github.com/scipy/scipy/\n",
    "* **munkres** - a Python implementation of the Hungarian algorithm provided by Brian Clapper\n",
    "  * https://github.com/bmc/munkres\n",
    "* **hungarian** - a wrapper to a C++ implementation Knuth's Hungarian algorithm provided by Harold Cooper. \n",
    "  * It does not work with Python 3.6+\n",
    "  * https://github.com/Hrldcpr/Hungarian\n",
    "* **lap.lapjv** - a wrapper to a C++ implementation of Jonker-Volgenant algorithm provided by Tomas Kazmar\n",
    "  * https://github.com/gatagat/lap\n",
    "  In addition, these two solvers are added for Python3\n",
    "* **lapjv.lapjv** - a wrapper to a C++ implementation of Jonker-Volgenant algorithm re-written for Python 3 and optimized to take advantage of AVX2 instruction sets by Vadim Markovtsev at src{d}.\n",
    "  * Please see the [blog post here](https://blog.sourced.tech/post/lapjv/)\n",
    "  * https://github.com/src-d/lapjv  \n",
    "* **lapsolver** - implementation for dense matrices based on shortest path augmentation by Christoph Heindl.\n",
    "  * Please note that Christioph has also done a [benchmark of LAP solvers](https://github.com/cheind/py-lapsolver/tree/master/lapsolver/benchmarks)\n",
    "  * https://github.com/cheind/py-lapsolver      \n",
    "\n",
    "They all formally have O(n<sup>3</sup>) complexity, but their performance differs substantially based on their implementation and the size of the matrix they are trying to solve. The solvers can be classified based on some unique characteristics.\n",
    "\n",
    "|  Module                             | Python or C/C++/Cython  | Algorithm     |\n",
    "|-------------------------------------|:-----------------------:|:--------------|\n",
    "|scipy.optimize.linear_sum_assignment |          Python         | Hungarian     |\n",
    "|munkres.Munkres                      |          Python         | Hungarian     |\n",
    "|hungarian.lap (<Py 3.5)              |          C++            | Hungarian     |\n",
    "|lap.lapjv                            |          C++            | Jonker-Volgenant     |\n",
    "|lapjv.lapjv                          |          C++            | Jonker-Volgenant     |\n",
    "|lapsolver.solve_dense                |          C++            | shortest augmenting path     |\n"
   ]
  },
  {
   "cell_type": "code",
   "execution_count": 1,
   "metadata": {},
   "outputs": [],
   "source": [
    "from __future__ import print_function\n",
    "\n",
    "import time\n",
    "import argparse\n",
    "import numpy as np\n",
    "import matplotlib.pyplot as plt\n",
    "from matplotlib.ticker import FormatStrFormatter\n",
    "import inspect\n",
    "import sys\n",
    "import pip"
   ]
  },
  {
   "cell_type": "markdown",
   "metadata": {},
   "source": [
    "## Check for missing packages; Install and load packages"
   ]
  },
  {
   "cell_type": "code",
   "execution_count": 2,
   "metadata": {},
   "outputs": [],
   "source": [
    "def install_modules(package):\n",
    "    try:\n",
    "        __import__(package)\n",
    "    except ImportError:\n",
    "        pip.main(['install', '--user', package])       "
   ]
  },
  {
   "cell_type": "code",
   "execution_count": 3,
   "metadata": {},
   "outputs": [],
   "source": [
    "#LAP Solvers\n",
    "install_modules(\"munkres\")\n",
    "import munkres\n",
    "install_modules(\"scipy\")\n",
    "from scipy.optimize import linear_sum_assignment\n",
    "from scipy.optimize import curve_fit\n",
    "#install_modules(\"hungarian\")\n",
    "#import hungarian\n",
    "install_modules(\"lap\")\n",
    "import lap\n",
    "\n",
    "#If running Python3, benchmark all implementations\n",
    "if sys.version_info[0] >= 3:\n",
    "    install_modules(\"lapjv\")\n",
    "    import lapjv\n",
    "    install_modules(\"lapsolver\")\n",
    "    from lapsolver import solve_dense"
   ]
  },
  {
   "cell_type": "markdown",
   "metadata": {},
   "source": [
    "## Invoke different LAP solvers"
   ]
  },
  {
   "cell_type": "markdown",
   "metadata": {
    "lines_to_next_cell": 2
   },
   "source": [
    "\n",
    "### lapJV"
   ]
  },
  {
   "cell_type": "code",
   "execution_count": 4,
   "metadata": {},
   "outputs": [],
   "source": [
    "def run_lap_lapjv(matrix, printlowestcost):\n",
    "    #print module name\n",
    "    temp = inspect.stack()[0][3]\n",
    "    method_name=temp[4:]\n",
    "    print(\" %s\" % ( method_name ) )\n",
    "\n",
    "    #start timing\n",
    "    t_start = time.time()\n",
    "    lowest_cost, row_ind, column_ind = lap.lapjv(matrix)\n",
    "    t_end = time.time()\n",
    "    #end timing\n",
    "\n",
    "    #print minimum cost information with varying verbosity\n",
    "    if printlowestcost:\n",
    "        if verbose:\n",
    "            lowest_cost = 0.00\n",
    "            for i in range(len(row_ind)):\n",
    "                lowest_cost += matrix[i, row_ind[i]]\n",
    "                print(\"%18s %6d %5.3f\" % (\"      \", i ,lowest_cost))\n",
    "        print(\"  %12s %s %5.3f\" % (method_name, \"minimum cost\", lowest_cost))\n",
    "\n",
    "    del row_ind\n",
    "    del column_ind\n",
    "    return t_end-t_start"
   ]
  },
  {
   "cell_type": "markdown",
   "metadata": {
    "lines_to_next_cell": 2
   },
   "source": [
    "### lapJV.lapJV"
   ]
  },
  {
   "cell_type": "code",
   "execution_count": 5,
   "metadata": {},
   "outputs": [],
   "source": [
    "def run_lapjv_lapjv(matrix, printlowestcost):\n",
    "    temp = inspect.stack()[0][3]\n",
    "    method_name=temp[4:]\n",
    "    print(\" %s\" % ( method_name ) )\n",
    "\n",
    "    t_start = time.time()\n",
    "    row_ind, column_ind, _ = lapjv.lapjv(matrix)\n",
    "    t_end = time.time()\n",
    "\n",
    "    if printlowestcost:\n",
    "        lowest_cost = 0.00\n",
    "        for i in range(len(row_ind)):\n",
    "            lowest_cost += matrix[i, row_ind[i]]\n",
    "            if verbose:\n",
    "                print(\"%18s  %6d  %5.3f\" % (\"      \", i ,lowest_cost))\n",
    "        print(\"  %12s %s %5.3f\" % (method_name, \"minimum cost\", lowest_cost))\n",
    "\n",
    "    del row_ind\n",
    "    del column_ind\n",
    "    return t_end-t_start"
   ]
  },
  {
   "cell_type": "markdown",
   "metadata": {
    "lines_to_next_cell": 2
   },
   "source": [
    "### lapsolver"
   ]
  },
  {
   "cell_type": "code",
   "execution_count": 6,
   "metadata": {},
   "outputs": [],
   "source": [
    "def run_lapsolver(matrix, printlowestcost):\n",
    "    temp = inspect.stack()[0][3]\n",
    "    method_name=temp[4:]\n",
    "    print(\" %s\" % ( method_name ) )\n",
    "\n",
    "    t_start = time.time()\n",
    "    row_ind, column_ind = solve_dense(matrix)\n",
    "    t_end = time.time()\n",
    "\n",
    "    if printlowestcost:\n",
    "        lowest_cost = 0.00\n",
    "        lowest_cost = matrix[row_ind, column_ind].sum()\n",
    "        print(\"  %12s %s %5.3f\" % (method_name, \"minimum cost\", lowest_cost))\n",
    "\n",
    "    del row_ind\n",
    "    del column_ind\n",
    "    return t_end-t_start"
   ]
  },
  {
   "cell_type": "markdown",
   "metadata": {
    "lines_to_next_cell": 2
   },
   "source": [
    "### hungarian (doesn't work with Python 3.6+)"
   ]
  },
  {
   "cell_type": "code",
   "execution_count": 7,
   "metadata": {},
   "outputs": [],
   "source": [
    "def run_hungarian(matrix, printlowestcost):\n",
    "    temp = inspect.stack()[0][3]\n",
    "    method_name=temp[4:]\n",
    "    print(\" %s\" % ( method_name ) )\n",
    "\n",
    "    t_start = time.time()\n",
    "    hung_mat = np.copy(matrix)\n",
    "    row_ind, column_ind = hungarian.lap(hung_mat)\n",
    "    t_end = time.time()\n",
    "\n",
    "    if printlowestcost:\n",
    "        lowest_cost = 0.00\n",
    "        for i in range(len(row_ind)):\n",
    "            lowest_cost += matrix[i, row_ind[i]]\n",
    "            if verbose:\n",
    "                print(\"%18s  %6d  %5.3f\" % (\"      \", i ,lowest_cost))\n",
    "        print(\"  %12s %s %5.3f\" % (method_name, \"minimum cost\", lowest_cost))\n",
    "\n",
    "    del row_ind\n",
    "    del column_ind\n",
    "    del hung_mat\n",
    "    return t_end-t_start"
   ]
  },
  {
   "cell_type": "markdown",
   "metadata": {
    "lines_to_next_cell": 2
   },
   "source": [
    "### scipy.linear_sum_assignment"
   ]
  },
  {
   "cell_type": "code",
   "execution_count": 8,
   "metadata": {},
   "outputs": [],
   "source": [
    "def run_scipy(matrix, printlowestcost):\n",
    "    temp = inspect.stack()[0][3]\n",
    "    method_name=temp[4:]\n",
    "    print(\" %s\" % ( method_name ) )\n",
    "\n",
    "    t_start = time.time()\n",
    "    row_ind, column_ind = linear_sum_assignment(matrix)\n",
    "    t_end = time.time()\n",
    "\n",
    "    if printlowestcost:\n",
    "        lowest_cost = 0.00\n",
    "        lowest_cost = matrix[row_ind, column_ind].sum()\n",
    "        print(\"  %12s %s %5.3f\" % (method_name, \"minimum cost\", lowest_cost))\n",
    "\n",
    "    del row_ind\n",
    "    del column_ind\n",
    "    return t_end-t_start"
   ]
  },
  {
   "cell_type": "markdown",
   "metadata": {
    "lines_to_next_cell": 2
   },
   "source": [
    "### munkres"
   ]
  },
  {
   "cell_type": "code",
   "execution_count": 9,
   "metadata": {},
   "outputs": [],
   "source": [
    "def run_munkres(matrix, printlowestcost):\n",
    "    temp = inspect.stack()[0][3]\n",
    "    method_name=temp[4:]\n",
    "    print(\" %s\" % ( method_name ) )\n",
    "\n",
    "    t_start = time.time()\n",
    "    munk_mat = np.copy(matrix)\n",
    "    m = munkres.Munkres()\n",
    "    indices = m.compute(matrix)\n",
    "    t_end = time.time()\n",
    "\n",
    "    if printlowestcost:\n",
    "        columns = [x[1] for x in indices]\n",
    "        lowest_cost = 0.00\n",
    "        for i in range(len(columns)):\n",
    "            lowest_cost += munk_mat[i, columns[i]]\n",
    "            if verbose:\n",
    "                print(\"%18s  %6d  %5.3f\" % (\"      \", i ,lowest_cost))\n",
    "        print(\"  %12s %s %5.3f\" % (method_name, \"minimum cost\", lowest_cost))\n",
    "\n",
    "    del indices\n",
    "    del munk_mat\n",
    "    return t_end-t_start"
   ]
  },
  {
   "cell_type": "markdown",
   "metadata": {
    "lines_to_next_cell": 2
   },
   "source": [
    "### New method\n",
    "\n",
    "One can add a function run_METHOD to get timing for that method"
   ]
  },
  {
   "cell_type": "markdown",
   "metadata": {},
   "source": [
    "## Main function\n",
    "\n",
    "The script  will produce the following:\n",
    "- data of timing for LAP solving random cost matrices of dimensions 2<sup>min</sup> - 2<sup>max</sup>\n",
    "- plot of timing for LAP solving random cost matrices of dimensions 2<sup>min</sup> - 2<sup>max</sup>\n",
    "\n",
    "Instead of parsing arguments from the command line, it expects the following variables to be specified below\n",
    "\n",
    "* **min** - minimum dimension of cost matrix to solve\n",
    "    - The default is 8 (2<sup>3</sup> - 2<sup>3</sup>)\n",
    "* **max** - maximum dimension of cost matrix to solve\n",
    "    - The default is 4096 (2<sup>12</sup> - 2<sup>12</sup>)\n",
    "* **ncyc** - number of times to solve cost matrices and average their timing\n",
    "    - The default is 3 cycles')       \n",
    "* **printcost** - Print the minimum cost.\n",
    "    - The default is false, i.e. will not print the minimum cost\n",
    "* **verbose** - Determines verbosity.\n",
    "    - The default is minimal printing, i.e. not verbose\n",
    "* **noplot** - Do not plot data.\n",
    "    - The default is to save plot of the data in PNG format, but not open the plot GUI unless 'showplot=True'\n",
    "* **showplot** - generate plot of data using matplotlib\n",
    "    - The default is to save plot of the data in PNG format, but not open the plot GUI\n"
   ]
  },
  {
   "cell_type": "code",
   "execution_count": 10,
   "metadata": {},
   "outputs": [],
   "source": [
    "if __name__ == \"__main__\":\n",
    "\n",
    " min = 8              # smallest dimension of square cost matrix to be solved\n",
    " max = 16384           # largest dimension of square cost matrix to be solved\n",
    " ncyc = 3             # number of times to repeat benchmarks \n",
    " printcost = False    # Print the minimum cost\n",
    " verbose = False      # Determines verbosity\n",
    " showplot = False     # Open matplotlib plot in a separate window         \n",
    " noplot = False       # Plot \n",
    "\n",
    "    \n",
    "# METHODS being benchmarked -- Add new METHOD[S] here\n",
    "# 'hungarian' removed because of incompatibilties with Python 3.6 and 3.7\n",
    "if sys.version_info[0] >= 3:\n",
    "    methods = [\"lap_lapjv\", \"lapjv_lapjv\", \"lapsolver\", \"scipy\", \"munkres\"]\n",
    "else:\n",
    "    methods = [\"lap_lapjv\", \"scipy\", \"munkres\"]\n",
    "\n",
    "min = int(np.floor(np.log2(min)))      # 2^min =  8x8 cost matrix\n",
    "max = int(np.ceil(np.log2(max)))      # 2^max\n",
    "\n",
    "ncyc = int(ncyc)                      # number of cycle"
   ]
  },
  {
   "cell_type": "markdown",
   "metadata": {},
   "source": [
    "### LIMITS - add limit for new METHOD[S] here\n",
    "The size of the matrix to be solved is limited to 2^{limit['method']} for each method to ensure quick termination of the benchmarking exercise. Munkres and Scipy are considerably slower, making it necessary to limit them to smaller matrices"
   ]
  },
  {
   "cell_type": "code",
   "execution_count": 11,
   "metadata": {},
   "outputs": [
    {
     "name": "stdout",
     "output_type": "stream",
     "text": [
      "Solving matrices of sizes up to 2^{n} where n is {'munkres': 7, 'scipy': 14, 'lap_lapjv': 14, 'lapjv_lapjv': 14, 'lapsolver': 14}\n"
     ]
    }
   ],
   "source": [
    "limit = {}\n",
    "limit['munkres'] = 7\n",
    "limit['scipy'] = max\n",
    "#limit['hungarian'] = max\n",
    "limit['lap_lapjv'] = max\n",
    "limit['lapjv_lapjv'] = max\n",
    "limit['lapsolver'] = max\n",
    "print(\"Solving matrices of sizes up to 2^{n} where n is \" + str(limit))\n"
   ]
  },
  {
   "cell_type": "code",
   "execution_count": 12,
   "metadata": {},
   "outputs": [],
   "source": [
    "# arrays to store data\n",
    "t_methods = [\"t_\" + i for i in methods]\n",
    "for i in range(len(methods)):\n",
    "    t_methods[i] = np.empty((0, 2), float)\n",
    "label_methods = [\"label_\" + i for i in methods]\n",
    "run_methods = [\"run_\" + i for i in methods]\n",
    "\n",
    "base = 2               # will build matrices of size base^n and solve them"
   ]
  },
  {
   "cell_type": "code",
   "execution_count": 13,
   "metadata": {},
   "outputs": [
    {
     "name": "stdout",
     "output_type": "stream",
     "text": [
      "\n",
      "8 x 8 ... \n",
      "Cycle  0 \n",
      " lap_lapjv\n",
      " lapjv_lapjv\n",
      " lapsolver\n",
      " scipy\n",
      " munkres\n",
      "Cycle  1 \n",
      " lap_lapjv\n",
      " lapjv_lapjv\n",
      " lapsolver\n",
      " scipy\n",
      " munkres\n",
      "Cycle  2 \n",
      " lap_lapjv\n",
      " lapjv_lapjv\n",
      " lapsolver\n",
      " scipy\n",
      " munkres\n",
      "\n",
      "16 x 16 ... \n",
      "Cycle  0 \n",
      " lap_lapjv\n",
      " lapjv_lapjv\n",
      " lapsolver\n",
      " scipy\n",
      " munkres\n",
      "Cycle  1 \n",
      " lap_lapjv\n",
      " lapjv_lapjv\n",
      " lapsolver\n",
      " scipy\n",
      " munkres\n",
      "Cycle  2 \n",
      " lap_lapjv\n",
      " lapjv_lapjv\n",
      " lapsolver\n",
      " scipy\n",
      " munkres\n",
      "\n",
      "32 x 32 ... \n",
      "Cycle  0 \n",
      " lap_lapjv\n",
      " lapjv_lapjv\n",
      " lapsolver\n",
      " scipy\n",
      " munkres\n",
      "Cycle  1 \n",
      " lap_lapjv\n",
      " lapjv_lapjv\n",
      " lapsolver\n",
      " scipy\n",
      " munkres\n",
      "Cycle  2 \n",
      " lap_lapjv\n",
      " lapjv_lapjv\n",
      " lapsolver\n",
      " scipy\n",
      " munkres\n",
      "\n",
      "64 x 64 ... \n",
      "Cycle  0 \n",
      " lap_lapjv\n",
      " lapjv_lapjv\n",
      " lapsolver\n",
      " scipy\n",
      " munkres\n",
      "Cycle  1 \n",
      " lap_lapjv\n",
      " lapjv_lapjv\n",
      " lapsolver\n",
      " scipy\n",
      " munkres\n",
      "Cycle  2 \n",
      " lap_lapjv\n",
      " lapjv_lapjv\n",
      " lapsolver\n",
      " scipy\n",
      " munkres\n",
      "\n",
      "128 x 128 ... \n",
      "Cycle  0 \n",
      " lap_lapjv\n",
      " lapjv_lapjv\n",
      " lapsolver\n",
      " scipy\n",
      " munkres\n",
      "Cycle  1 \n",
      " lap_lapjv\n",
      " lapjv_lapjv\n",
      " lapsolver\n",
      " scipy\n",
      " munkres\n",
      "Cycle  2 \n",
      " lap_lapjv\n",
      " lapjv_lapjv\n",
      " lapsolver\n",
      " scipy\n",
      " munkres\n",
      "\n",
      "256 x 256 ... \n",
      "Cycle  0 \n",
      " lap_lapjv\n",
      " lapjv_lapjv\n",
      " lapsolver\n",
      " scipy\n",
      "Cycle  1 \n",
      " lap_lapjv\n",
      " lapjv_lapjv\n",
      " lapsolver\n",
      " scipy\n",
      "Cycle  2 \n",
      " lap_lapjv\n",
      " lapjv_lapjv\n",
      " lapsolver\n",
      " scipy\n",
      "\n",
      "512 x 512 ... \n",
      "Cycle  0 \n",
      " lap_lapjv\n",
      " lapjv_lapjv\n",
      " lapsolver\n",
      " scipy\n",
      "Cycle  1 \n",
      " lap_lapjv\n",
      " lapjv_lapjv\n",
      " lapsolver\n",
      " scipy\n",
      "Cycle  2 \n",
      " lap_lapjv\n",
      " lapjv_lapjv\n",
      " lapsolver\n",
      " scipy\n",
      "\n",
      "1024 x 1024 ... \n",
      "Cycle  0 \n",
      " lap_lapjv\n",
      " lapjv_lapjv\n",
      " lapsolver\n",
      " scipy\n",
      "Cycle  1 \n",
      " lap_lapjv\n",
      " lapjv_lapjv\n",
      " lapsolver\n",
      " scipy\n",
      "Cycle  2 \n",
      " lap_lapjv\n",
      " lapjv_lapjv\n",
      " lapsolver\n",
      " scipy\n",
      "\n",
      "2048 x 2048 ... \n",
      "Cycle  0 \n",
      " lap_lapjv\n",
      " lapjv_lapjv\n",
      " lapsolver\n",
      " scipy\n",
      "Cycle  1 \n",
      " lap_lapjv\n",
      " lapjv_lapjv\n",
      " lapsolver\n",
      " scipy\n",
      "Cycle  2 \n",
      " lap_lapjv\n",
      " lapjv_lapjv\n",
      " lapsolver\n",
      " scipy\n",
      "\n",
      "4096 x 4096 ... \n",
      "Cycle  0 \n",
      " lap_lapjv\n",
      " lapjv_lapjv\n",
      " lapsolver\n",
      " scipy\n",
      "Cycle  1 \n",
      " lap_lapjv\n",
      " lapjv_lapjv\n",
      " lapsolver\n",
      " scipy\n",
      "Cycle  2 \n",
      " lap_lapjv\n",
      " lapjv_lapjv\n",
      " lapsolver\n",
      " scipy\n",
      "\n",
      "8192 x 8192 ... \n",
      "Cycle  0 \n",
      " lap_lapjv\n",
      " lapjv_lapjv\n",
      " lapsolver\n",
      " scipy\n",
      "Cycle  1 \n",
      " lap_lapjv\n",
      " lapjv_lapjv\n",
      " lapsolver\n",
      " scipy\n",
      "Cycle  2 \n",
      " lap_lapjv\n",
      " lapjv_lapjv\n",
      " lapsolver\n",
      " scipy\n"
     ]
    }
   ],
   "source": [
    "for i in range(min, max):\n",
    "    matrix_size = pow(base, i)\n",
    "    print((\"\\n\" + str(matrix_size) + \" x \" + str(matrix_size) + \" ... \"))\n",
    "    methods_data = np.zeros(len(methods), float)\n",
    "\n",
    "    # Generate n_cyc random matrices and solve them using different methods\n",
    "    for j in range(ncyc):\n",
    "        cost_matrix = matrix_size * \\\n",
    "            np.random.random((matrix_size, matrix_size))\n",
    "        print(\"Cycle \", (str(j) + \" \"))\n",
    "        # print(\"\\n\")\n",
    "        # print(cost_matrix)\n",
    "        for method in range(len(methods)):\n",
    "            # print '%20s\\t' %(methods[method])\n",
    "            if methods[method] == 'munkres' and i <= limit[methods[method]]:\n",
    "                methods_data[method] += run_munkres(\n",
    "                    cost_matrix, printcost)\n",
    "            elif methods[method] == 'scipy' and i <= limit[methods[method]]:\n",
    "                real_time = run_scipy(cost_matrix, printcost)\n",
    "                methods_data[method] += real_time\n",
    "            #elif methods[method] == 'hungarian' and i <= limit[methods[method]]:\n",
    "            #    methods_data[method] += run_hungarian(\n",
    "            #        cost_matrix, printcost)\n",
    "            elif methods[method] == 'lap_lapjv' and i <= limit[methods[method]]:\n",
    "                methods_data[method] += run_lap_lapjv(\n",
    "                    cost_matrix, printcost)\n",
    "            elif methods[method] == 'lapjv_lapjv' and i <= limit[methods[method]]:\n",
    "                methods_data[method] += run_lapjv_lapjv(\n",
    "                    cost_matrix, printcost)\n",
    "            elif methods[method] == 'lapsolver' and i <= limit[methods[method]]:\n",
    "                methods_data[method] += run_lapsolver(\n",
    "                    cost_matrix, printcost)\n",
    "                # If you want to benchmark a new METHOD, add another ELIF statement here\n",
    "            else:\n",
    "                pass\n",
    "            \n",
    "    # average the timing information from n_cyc cycles\n",
    "    for method in range(len(methods)):\n",
    "        if methods_data[method] != 0:   # to make sure there is timing information\n",
    "            t_methods[method] = np.append(t_methods[method],\n",
    "                                          np.array([[matrix_size, methods_data[method]/ncyc]]), axis=0)"
   ]
  },
  {
   "cell_type": "markdown",
   "metadata": {},
   "source": [
    "## Print timing information to screen"
   ]
  },
  {
   "cell_type": "code",
   "execution_count": 14,
   "metadata": {},
   "outputs": [
    {
     "name": "stdout",
     "output_type": "stream",
     "text": [
      "\n",
      "\n",
      "   Matrix_dims       8      16      32      64     128     256     512    1024    2048    4096    8192   \n",
      "   lap_lapjv  [0.00008 0.00006 0.00009 0.00009 0.0003  0.00115 0.00439 0.03812 0.29009 1.48637 8.87839]\n",
      " lapjv_lapjv  [0.00005 0.00003 0.00005 0.00017 0.00018 0.00076 0.00303 0.02554 0.21117 0.71301 3.39554]\n",
      "   lapsolver  [ 0.00004  0.00005  0.00005  0.00011  0.00059  0.00238  0.01176  0.0673   0.45805  2.49236 14.85675]\n",
      "       scipy  [0.00009 0.00011 0.00014 0.00027 0.0008  0.0027  0.0123  0.05524 0.30634 1.89025 9.97549]\n",
      "     munkres  [0.00078 0.00722 0.05219 0.52676 4.70063]\n"
     ]
    }
   ],
   "source": [
    "dimensions = t_methods[0][:, [0]]\n",
    "dimensions = dimensions.flatten()\n",
    "print(\"\\n\")\n",
    "print(\"  %12s \" % (\"Matrix_dims\"), end=\" \")\n",
    "np.set_printoptions(suppress=True, precision=5, linewidth=100)\n",
    "for i in range(len(dimensions)):\n",
    "    print('%6d ' % (dimensions[i]), end=\" \")\n",
    "print(\" \")\n",
    "\n",
    "np.set_printoptions(suppress=True, precision=5, linewidth=100)\n",
    "for method in range(len(methods)):\n",
    "    print('%12s ' % (methods[method]), end=\" \")\n",
    "    timings = t_methods[method][:, [1]]\n",
    "    timings = timings.flatten()\n",
    "    print(timings)"
   ]
  },
  {
   "cell_type": "markdown",
   "metadata": {},
   "source": [
    "## Generate a plot\n",
    "Unless 'noplot=True'"
   ]
  },
  {
   "cell_type": "code",
   "execution_count": 15,
   "metadata": {},
   "outputs": [
    {
     "name": "stdout",
     "output_type": "stream",
     "text": [
      "Figure saved to file timing-LAPs-py3-8-16384.png\n"
     ]
    },
    {
     "data": {
      "image/png": "[encoded data removed]",
      "text/plain": [
       "<Figure size 792x612 with 1 Axes>"
      ]
     },
     "metadata": {
      "needs_background": "light"
     },
     "output_type": "display_data"
    }
   ],
   "source": [
    "if noplot:\n",
    "    pass\n",
    "else:\n",
    "    markers = []\n",
    "    markers = ['o', 'v', 's', 'D', 'P', '+', '*', '0', '1', '2']\n",
    "    marker_size = [50]\n",
    "    fig, ax = plt.subplots()\n",
    "    for method in range(len(methods)):\n",
    "        plt.scatter(t_methods[method][:, [0]], t_methods[method][:, [1]],\n",
    "                    s=marker_size, label=methods[method], marker=markers[method])\n",
    "        plt.loglog(t_methods[method][:, [0]], t_methods[method][:, [1]],\n",
    "                   basex=2, basey=10)\n",
    "\n",
    "    plt.grid(True, which=\"both\")\n",
    "    ax.xaxis.set_major_formatter(FormatStrFormatter('%d'))\n",
    "    plt.xlabel('Matrix dimension (2^n)', fontsize=18)\n",
    "    plt.ylabel('Real time to solution (seconds)', fontsize=18)\n",
    "    plt.title('Time to solve LAPs using different methods', fontsize=20)\n",
    "    plt.legend(fontsize=14)\n",
    "    fig_filename = \"timing-LAPs-py3-\" + \\\n",
    "        str(pow(2, min)) + \"-\" + str(pow(2, max)) + \".png\"\n",
    "    print(\"Figure saved to file %18s\" % (fig_filename))\n",
    "    fig.set_size_inches(11, 8.5)\n",
    "    plt.savefig(fig_filename, bbox_inches='tight', dpi=150)\n",
    "    if showplot:\n",
    "        plt.show()"
   ]
  },
  {
   "cell_type": "markdown",
   "metadata": {},
   "source": [
    "## Notes\n",
    "- compared to benchmarks in 2018 and 2019, the new LAP implementation in `scipy` has gotten much faster. In the past, it was moderately faster than `munkres` and it was too slow to solve anything larger than 512x512 problem, but now it is competitive with most fast implementations. "
   ]
  },
  {
   "cell_type": "code",
   "execution_count": null,
   "metadata": {},
   "outputs": [],
   "source": []
  }
 ],
 "metadata": {
  "jupytext": {
   "cell_metadata_filter": "-all",
   "main_language": "python",
   "notebook_metadata_filter": "-all"
  },
  "kernelspec": {
   "display_name": "_Python3.7",
   "language": "python",
   "name": "python3"
  },
  "language_info": {
   "codemirror_mode": {
    "name": "ipython",
    "version": 3
   },
   "file_extension": ".py",
   "mimetype": "text/x-python",
   "name": "python",
   "nbconvert_exporter": "python",
   "pygments_lexer": "ipython3",
   "version": "3.7.6"
  }
 },
 "nbformat": 4,
 "nbformat_minor": 4
}
