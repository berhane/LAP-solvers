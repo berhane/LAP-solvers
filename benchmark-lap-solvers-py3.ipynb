{
 "cells": [
  {
   "cell_type": "markdown",
   "metadata": {},
   "source": [
    "# Benchmarking Python3 LAP Solvers\n",
    "\n",
    "The scripts benchmark the performance of Python3 linear assignment problem (LAP) solvers for random cost matrices of different sizes. **They have been rested to work with Python 3.6 and 3.7**  These solvers are:\n",
    "\n",
    "* **linear_sum_assignment** - a Python implementation of the Hungarian algorithm provided in SciPy\n",
    "  * https://github.com/scipy/scipy/\n",
    "* **munkres** - a Python implementation of the Hungarian algorithm provided by Brian Clapper\n",
    "  * https://github.com/bmc/munkres\n",
    "* **hungarian** - a wrapper to a C++ implementation Knuth's Hungarian algorithm provided by Harold Cooper. \n",
    "  * It does not work with Python 3.6+\n",
    "  * https://github.com/Hrldcpr/Hungarian\n",
    "* **lap.lapjv** - a wrapper to a C++ implementation of Jonker-Volgenant algorithm provided by Tomas Kazmar\n",
    "  * https://github.com/gatagat/lap\n",
    "  In addition, these two solvers are added for Python3\n",
    "* **lapjv.lapjv** - a wrapper to a C++ implementation of Jonker-Volgenant algorithm re-written for Python 3 and optimized to take advantage of AVX2 instruction sets by Vadim Markovtsev at src{d}.\n",
    "  * Please see the [blog post here](https://blog.sourced.tech/post/lapjv/)\n",
    "  * https://github.com/src-d/lapjv  \n",
    "* **lapsolver** - implementation for dense matrices based on shortest path augmentation by Christoph Heindl.\n",
    "  * Please note that Christioph has also done a [benchmark of LAP solvers](https://github.com/cheind/py-lapsolver/tree/master/lapsolver/benchmarks)\n",
    "  * https://github.com/cheind/py-lapsolver      \n",
    "\n",
    "They all formally have O(n<sup>3</sup>) complexity, but their performance differs substantially based on their implementation and the size of the matrix they are trying to solve. The solvers can be classified based on some unique characteristics.\n",
    "\n",
    "|  Module                             | Python or C/C++/Cython  | Algorithm     |\n",
    "|-------------------------------------|:-----------------------:|:--------------|\n",
    "|scipy.optimize.linear_sum_assignment |          Python(v<1.4)/C++(v=>1.4)         | Hungarian     |\n",
    "|munkres.Munkres                      |          Python         | Hungarian     |\n",
    "|hungarian.lap (<Py 3.5)              |          C++            | Hungarian     |\n",
    "|lap.lapjv                            |          C++            | Jonker-Volgenant     |\n",
    "|lapjv.lapjv                          |          C++            | Jonker-Volgenant     |\n",
    "|lapsolver.solve_dense                |          C++            | shortest augmenting path     |\n"
   ]
  },
  {
   "cell_type": "code",
   "execution_count": 1,
   "metadata": {},
   "outputs": [],
   "source": [
    "from __future__ import print_function\n",
    "\n",
    "import time\n",
    "import argparse\n",
    "import numpy as np\n",
    "import matplotlib.pyplot as plt\n",
    "from matplotlib.ticker import FormatStrFormatter\n",
    "import inspect\n",
    "import sys\n",
    "import pip"
   ]
  },
  {
   "cell_type": "markdown",
   "metadata": {},
   "source": [
    "## Check for missing packages; Install and load packages"
   ]
  },
  {
   "cell_type": "code",
   "execution_count": 2,
   "metadata": {},
   "outputs": [],
   "source": [
    "def install_modules(package):\n",
    "    try:\n",
    "        __import__(package)\n",
    "    except ImportError:\n",
    "        pip.main(['install', '--user', package])       "
   ]
  },
  {
   "cell_type": "code",
   "execution_count": 3,
   "metadata": {},
   "outputs": [],
   "source": [
    "#LAP Solvers\n",
    "install_modules(\"munkres\")\n",
    "import munkres\n",
    "install_modules(\"scipy\")\n",
    "from scipy.optimize import linear_sum_assignment\n",
    "from scipy.optimize import curve_fit\n",
    "#install_modules(\"hungarian\")\n",
    "#import hungarian\n",
    "install_modules(\"lap\")\n",
    "import lap\n",
    "\n",
    "#If running Python3, benchmark all implementations\n",
    "if sys.version_info[0] >= 3:\n",
    "    install_modules(\"lapjv\")\n",
    "    import lapjv\n",
    "    install_modules(\"lapsolver\")\n",
    "    from lapsolver import solve_dense\n",
    "    install_modules(\"laptools\")\n",
    "    from laptools import clap"
   ]
  },
  {
   "cell_type": "markdown",
   "metadata": {},
   "source": [
    "## Invoke different LAP solvers"
   ]
  },
  {
   "cell_type": "markdown",
   "metadata": {
    "lines_to_next_cell": 2
   },
   "source": [
    "\n",
    "### lapJV"
   ]
  },
  {
   "cell_type": "code",
   "execution_count": 4,
   "metadata": {},
   "outputs": [],
   "source": [
    "def run_lap_lapjv(matrix, printlowestcost):\n",
    "    #print module name\n",
    "    temp = inspect.stack()[0][3]\n",
    "    method_name=temp[4:]\n",
    "    print(\" %s\" % ( method_name ), end=' ')\n",
    "\n",
    "    #start timing\n",
    "    t_start = time.time()\n",
    "    lowest_cost, row_ind, column_ind = lap.lapjv(matrix)\n",
    "    t_end = time.time()\n",
    "    #end timing\n",
    "\n",
    "    #print minimum cost information with varying verbosity\n",
    "    if printlowestcost:\n",
    "        if verbose:\n",
    "            lowest_cost = 0.00\n",
    "            for i in range(len(row_ind)):\n",
    "                lowest_cost += matrix[i, row_ind[i]]\n",
    "                print(\"%18s %6d %5.3f\" % (\"      \", i ,lowest_cost))\n",
    "        print(\"  %12s %s %5.3f\" % (method_name, \"minimum cost\", lowest_cost))\n",
    "\n",
    "    del row_ind\n",
    "    del column_ind\n",
    "    return t_end-t_start"
   ]
  },
  {
   "cell_type": "markdown",
   "metadata": {
    "lines_to_next_cell": 2
   },
   "source": [
    "### lapJV.lapJV"
   ]
  },
  {
   "cell_type": "code",
   "execution_count": 5,
   "metadata": {},
   "outputs": [],
   "source": [
    "def run_lapjv_lapjv(matrix, printlowestcost):\n",
    "    temp = inspect.stack()[0][3]\n",
    "    method_name=temp[4:]\n",
    "    print(\" %s\" % ( method_name ), end=' ')\n",
    "\n",
    "    t_start = time.time()\n",
    "    row_ind, column_ind, _ = lapjv.lapjv(matrix)\n",
    "    t_end = time.time()\n",
    "\n",
    "    if printlowestcost:\n",
    "        lowest_cost = 0.00\n",
    "        for i in range(len(row_ind)):\n",
    "            lowest_cost += matrix[i, row_ind[i]]\n",
    "            if verbose:\n",
    "                print(\"%18s  %6d  %5.3f\" % (\"      \", i ,lowest_cost))\n",
    "        print(\"  %12s %s %5.3f\" % (method_name, \"minimum cost\", lowest_cost))\n",
    "\n",
    "    del row_ind\n",
    "    del column_ind\n",
    "    return t_end-t_start"
   ]
  },
  {
   "cell_type": "markdown",
   "metadata": {
    "lines_to_next_cell": 2
   },
   "source": [
    "### lapsolver"
   ]
  },
  {
   "cell_type": "code",
   "execution_count": 6,
   "metadata": {},
   "outputs": [],
   "source": [
    "def run_lapsolver(matrix, printlowestcost):\n",
    "    temp = inspect.stack()[0][3]\n",
    "    method_name=temp[4:]\n",
    "    print(\" %s\" % ( method_name ), end=' ')\n",
    "\n",
    "    t_start = time.time()\n",
    "    row_ind, column_ind = solve_dense(matrix)\n",
    "    t_end = time.time()\n",
    "\n",
    "    if printlowestcost:\n",
    "        lowest_cost = 0.00\n",
    "        lowest_cost = matrix[row_ind, column_ind].sum()\n",
    "        print(\"  %12s %s %5.3f\" % (method_name, \"minimum cost\", lowest_cost))\n",
    "\n",
    "    del row_ind\n",
    "    del column_ind\n",
    "    return t_end-t_start"
   ]
  },
  {
   "cell_type": "markdown",
   "metadata": {
    "lines_to_next_cell": 2
   },
   "source": [
    "### hungarian (doesn't work with Python 3.6+)"
   ]
  },
  {
   "cell_type": "code",
   "execution_count": 7,
   "metadata": {},
   "outputs": [],
   "source": [
    "def run_hungarian(matrix, printlowestcost):\n",
    "    temp = inspect.stack()[0][3]\n",
    "    method_name=temp[4:]\n",
    "    print(\" %s\" % ( method_name ), end=' ')\n",
    "\n",
    "    t_start = time.time()\n",
    "    hung_mat = np.copy(matrix)\n",
    "    row_ind, column_ind = hungarian.lap(hung_mat)\n",
    "    t_end = time.time()\n",
    "\n",
    "    if printlowestcost:\n",
    "        lowest_cost = 0.00\n",
    "        for i in range(len(row_ind)):\n",
    "            lowest_cost += matrix[i, row_ind[i]]\n",
    "            if verbose:\n",
    "                print(\"%18s  %6d  %5.3f\" % (\"      \", i ,lowest_cost))\n",
    "        print(\"  %12s %s %5.3f\" % (method_name, \"minimum cost\", lowest_cost))\n",
    "\n",
    "    del row_ind\n",
    "    del column_ind\n",
    "    del hung_mat\n",
    "    return t_end-t_start"
   ]
  },
  {
   "cell_type": "markdown",
   "metadata": {
    "lines_to_next_cell": 2
   },
   "source": [
    "### scipy.linear_sum_assignment"
   ]
  },
  {
   "cell_type": "code",
   "execution_count": 8,
   "metadata": {},
   "outputs": [],
   "source": [
    "def run_scipy(matrix, printlowestcost):\n",
    "    temp = inspect.stack()[0][3]\n",
    "    method_name=temp[4:]\n",
    "    print(\" %s\" % ( method_name ), end=' ')\n",
    "\n",
    "    t_start = time.time()\n",
    "    row_ind, column_ind = linear_sum_assignment(matrix)\n",
    "    t_end = time.time()\n",
    "\n",
    "    if printlowestcost:\n",
    "        lowest_cost = 0.00\n",
    "        lowest_cost = matrix[row_ind, column_ind].sum()\n",
    "        print(\"  %12s %s %5.3f\" % (method_name, \"minimum cost\", lowest_cost))\n",
    "\n",
    "    del row_ind\n",
    "    del column_ind\n",
    "    return t_end-t_start"
   ]
  },
  {
   "cell_type": "markdown",
   "metadata": {
    "lines_to_next_cell": 2
   },
   "source": [
    "### munkres"
   ]
  },
  {
   "cell_type": "code",
   "execution_count": 9,
   "metadata": {},
   "outputs": [],
   "source": [
    "def run_munkres(matrix, printlowestcost):\n",
    "    temp = inspect.stack()[0][3]\n",
    "    method_name=temp[4:]\n",
    "    print(\" %s\" % ( method_name ), end=' ')\n",
    "\n",
    "    t_start = time.time()\n",
    "    munk_mat = np.copy(matrix)\n",
    "    m = munkres.Munkres()\n",
    "    indices = m.compute(matrix)\n",
    "    t_end = time.time()\n",
    "\n",
    "    if printlowestcost:\n",
    "        columns = [x[1] for x in indices]\n",
    "        lowest_cost = 0.00\n",
    "        for i in range(len(columns)):\n",
    "            lowest_cost += munk_mat[i, columns[i]]\n",
    "            if verbose:\n",
    "                print(\"%18s  %6d  %5.3f\" % (\"      \", i ,lowest_cost))\n",
    "        print(\"  %12s %s %5.3f\" % (method_name, \"minimum cost\", lowest_cost))\n",
    "\n",
    "    del indices\n",
    "    del munk_mat\n",
    "    return t_end-t_start"
   ]
  },
  {
   "cell_type": "markdown",
   "metadata": {},
   "source": [
    "### laptools_clap"
   ]
  },
  {
   "cell_type": "code",
   "execution_count": 19,
   "metadata": {},
   "outputs": [],
   "source": [
    "def run_laptools_clap(matrix, printlowestcost):\n",
    "    temp = inspect.stack()[0][3]\n",
    "    method_name=temp[4:]\n",
    "    print(\" %s\" % ( method_name ), end=' ')\n",
    "\n",
    "    t_start = time.time()\n",
    "    lowest_cost = clap.cost(0,1,matrix)\n",
    "    t_end = time.time()\n",
    "\n",
    "    if printlowestcost:\n",
    "        print(\"  %12s %s %5.3f\" % (method_name, \"minimum cost\", lowest_cost))\n",
    "\n",
    "    return t_end-t_start"
   ]
  },
  {
   "cell_type": "markdown",
   "metadata": {
    "lines_to_next_cell": 2
   },
   "source": [
    "### New method\n",
    "\n",
    "One can add a function run_METHOD to get timing for that method"
   ]
  },
  {
   "cell_type": "markdown",
   "metadata": {},
   "source": [
    "## Main function\n",
    "\n",
    "The script  will produce the following:\n",
    "- data of timing for LAP solving random cost matrices of dimensions 2<sup>min</sup> - 2<sup>max</sup>\n",
    "- plot of timing for LAP solving random cost matrices of dimensions 2<sup>min</sup> - 2<sup>max</sup>\n",
    "\n",
    "Instead of parsing arguments from the command line, it expects the following variables to be specified below\n",
    "\n",
    "* **min** - minimum dimension of cost matrix to solve\n",
    "    - The default is 8 (2<sup>3</sup>)\n",
    "* **max** - maximum dimension of cost matrix to solve\n",
    "    - The default is 4096 (2<sup>12</sup>)\n",
    "* **ncyc** - number of times to solve cost matrices and average their timing\n",
    "    - The default is 3 cycles')       \n",
    "* **printcost** - Print the minimum cost.\n",
    "    - The default is false, i.e. will not print the minimum cost\n",
    "* **verbose** - Determines verbosity.\n",
    "    - The default is minimal printing, i.e. not verbose\n",
    "* **noplot** - Do not plot data.\n",
    "    - The default is to save plot of the data in PNG format, but not open the plot GUI unless 'showplot=True'\n",
    "* **showplot** - generate plot of data using matplotlib\n",
    "    - The default is to save plot of the data in PNG format, but not open the plot GUI\n"
   ]
  },
  {
   "cell_type": "code",
   "execution_count": 12,
   "metadata": {},
   "outputs": [],
   "source": [
    "if __name__ == \"__main__\":\n",
    "\n",
    " smallest = 8              # smallest dimension of square cost matrix to be solved\n",
    " largest = 8192           # largest dimension of square cost matrix to be solved\n",
    " ncyc = 3             # number of times to repeat benchmarks \n",
    " printcost = False    # Print the minimum cost\n",
    " verbose = False      # Determines verbosity\n",
    " showplot = False     # Open matplotlib plot in a separate window         \n",
    " noplot = False       # Plot \n",
    "\n",
    "    \n",
    "# METHODS being benchmarked -- Add new METHOD[S] here\n",
    "# 'hungarian' removed because of incompatibilties with Python 3.6 and 3.7\n",
    "if sys.version_info[0] >= 3:\n",
    "    methods = [\"lapjv_lapjv\", \"lap_lapjv\", \"scipy\", \"lapsolver\", \"munkres\", \"laptools_clap\"]\n",
    "else:\n",
    "    methods = [\"lap_lapjv\", \"scipy\", \"munkres\"]\n",
    "\n",
    "minimum = int(np.floor(np.log2(smallest)))      # 2^min =  8x8 cost matrix\n",
    "maximum = int(np.ceil(np.log2(largest)))      # 2^max\n",
    "ncyc = int(ncyc)                      # number of cycle"
   ]
  },
  {
   "cell_type": "markdown",
   "metadata": {},
   "source": [
    "### LIMITS - add limit for new METHOD[S] here\n",
    "The size of the matrix to be solved is limited to 2^{limit['method']} for each method to ensure quick termination of the benchmarking exercise. Munkres and Scipy are considerably slower, making it necessary to limit them to smaller matrices"
   ]
  },
  {
   "cell_type": "code",
   "execution_count": 13,
   "metadata": {},
   "outputs": [
    {
     "name": "stdout",
     "output_type": "stream",
     "text": [
      "Solving matrices of sizes up to 2^{n} where n is {'munkres': 7, 'scipy': 13, 'lap_lapjv': 13, 'lapjv_lapjv': 13, 'lapsolver': 13, 'laptools_clap': 13}\n"
     ]
    }
   ],
   "source": [
    "limit = {}\n",
    "limit['munkres'] = min(7,maximum)\n",
    "#limit['hungarian'] = min(12,maximum)\n",
    "limit['scipy'] = maximum\n",
    "limit['lap_lapjv'] = maximum\n",
    "limit['lapjv_lapjv'] = maximum\n",
    "limit['lapsolver'] = maximum\n",
    "limit['laptools_clap'] =  maximum\n",
    "print(\"Solving matrices of sizes up to 2^{n} where n is \" + str(limit))"
   ]
  },
  {
   "cell_type": "code",
   "execution_count": 14,
   "metadata": {},
   "outputs": [],
   "source": [
    "# arrays to store data\n",
    "t_methods = [\"t_\" + i for i in methods]\n",
    "for i in range(len(methods)):\n",
    "    t_methods[i] = np.empty((0, 2), float)\n",
    "label_methods = [\"label_\" + i for i in methods]\n",
    "run_methods = [\"run_\" + i for i in methods]\n",
    "\n",
    "base = 2               # will build matrices of size base^n and solve them"
   ]
  },
  {
   "cell_type": "code",
   "execution_count": 15,
   "metadata": {},
   "outputs": [
    {
     "name": "stdout",
     "output_type": "stream",
     "text": [
      "\n",
      "\n",
      "8 x 8 ... \n",
      "\n",
      "Cycle  0   lapjv_lapjv  lap_lapjv  scipy  lapsolver  munkres  laptools_clap \n",
      "Cycle  1   lapjv_lapjv  lap_lapjv  scipy  lapsolver  munkres  laptools_clap \n",
      "Cycle  2   lapjv_lapjv  lap_lapjv  scipy  lapsolver  munkres  laptools_clap \n",
      "\n",
      "16 x 16 ... \n",
      "\n",
      "Cycle  0   lapjv_lapjv  lap_lapjv  scipy  lapsolver  munkres  laptools_clap \n",
      "Cycle  1   lapjv_lapjv  lap_lapjv  scipy  lapsolver  munkres  laptools_clap \n",
      "Cycle  2   lapjv_lapjv  lap_lapjv  scipy  lapsolver  munkres  laptools_clap \n",
      "\n",
      "32 x 32 ... \n",
      "\n",
      "Cycle  0   lapjv_lapjv  lap_lapjv  scipy  lapsolver  munkres  laptools_clap \n",
      "Cycle  1   lapjv_lapjv  lap_lapjv  scipy  lapsolver  munkres  laptools_clap \n",
      "Cycle  2   lapjv_lapjv  lap_lapjv  scipy  lapsolver  munkres  laptools_clap \n",
      "\n",
      "64 x 64 ... \n",
      "\n",
      "Cycle  0   lapjv_lapjv  lap_lapjv  scipy  lapsolver  munkres  laptools_clap \n",
      "Cycle  1   lapjv_lapjv  lap_lapjv  scipy  lapsolver  munkres  laptools_clap \n",
      "Cycle  2   lapjv_lapjv  lap_lapjv  scipy  lapsolver  munkres  laptools_clap \n",
      "\n",
      "128 x 128 ... \n",
      "\n",
      "Cycle  0   lapjv_lapjv  lap_lapjv  scipy  lapsolver  munkres  laptools_clap \n",
      "Cycle  1   lapjv_lapjv  lap_lapjv  scipy  lapsolver  munkres  laptools_clap \n",
      "Cycle  2   lapjv_lapjv  lap_lapjv  scipy  lapsolver  munkres  laptools_clap \n",
      "\n",
      "256 x 256 ... \n",
      "\n",
      "Cycle  0   lapjv_lapjv  lap_lapjv  scipy  lapsolver  laptools_clap \n",
      "Cycle  1   lapjv_lapjv  lap_lapjv  scipy  lapsolver  laptools_clap \n",
      "Cycle  2   lapjv_lapjv  lap_lapjv  scipy  lapsolver  laptools_clap \n",
      "\n",
      "512 x 512 ... \n",
      "\n",
      "Cycle  0   lapjv_lapjv  lap_lapjv  scipy  lapsolver  laptools_clap \n",
      "Cycle  1   lapjv_lapjv  lap_lapjv  scipy  lapsolver  laptools_clap \n",
      "Cycle  2   lapjv_lapjv  lap_lapjv  scipy  lapsolver  laptools_clap \n",
      "\n",
      "1024 x 1024 ... \n",
      "\n",
      "Cycle  0   lapjv_lapjv  lap_lapjv  scipy  lapsolver  laptools_clap \n",
      "Cycle  1   lapjv_lapjv  lap_lapjv  scipy  lapsolver  laptools_clap \n",
      "Cycle  2   lapjv_lapjv  lap_lapjv  scipy  lapsolver  laptools_clap \n",
      "\n",
      "2048 x 2048 ... \n",
      "\n",
      "Cycle  0   lapjv_lapjv  lap_lapjv  scipy  lapsolver  laptools_clap \n",
      "Cycle  1   lapjv_lapjv  lap_lapjv  scipy  lapsolver  laptools_clap \n",
      "Cycle  2   lapjv_lapjv  lap_lapjv  scipy  lapsolver  laptools_clap \n",
      "\n",
      "4096 x 4096 ... \n",
      "\n",
      "Cycle  0   lapjv_lapjv  lap_lapjv  scipy  lapsolver  laptools_clap \n",
      "Cycle  1   lapjv_lapjv  lap_lapjv  scipy  lapsolver  laptools_clap \n",
      "Cycle  2   lapjv_lapjv  lap_lapjv  scipy  lapsolver  laptools_clap "
     ]
    }
   ],
   "source": [
    "for i in range(minimum, maximum):\n",
    "    matrix_size = pow(base, i)\n",
    "    print((\"\\n\\n\" + str(matrix_size) + \" x \" + str(matrix_size) + \" ... \"))\n",
    "    methods_data = np.zeros(len(methods), float)\n",
    "\n",
    "    # Generate n_cyc random matrices and solve them using different methods\n",
    "    for j in range(ncyc):\n",
    "        cost_matrix = matrix_size * \\\n",
    "            np.random.random((matrix_size, matrix_size))\n",
    "        print(\"\\nCycle \", (str(j) + \" \"), end=' ')\n",
    "        # print(\"\\n\")\n",
    "        # print(cost_matrix)\n",
    "        for method in range(len(methods)):\n",
    "            # print '%20s\\t' %(methods[method])\n",
    "            if methods[method] == 'munkres' and i <= limit[methods[method]]:\n",
    "                methods_data[method] += run_munkres(\n",
    "                    cost_matrix, printcost)\n",
    "            elif methods[method] == 'scipy' and i <= limit[methods[method]]:\n",
    "                real_time = run_scipy(cost_matrix, printcost)\n",
    "                methods_data[method] += real_time\n",
    "            #elif methods[method] == 'hungarian' and i <= limit[methods[method]]:\n",
    "            #    methods_data[method] += run_hungarian(\n",
    "            #        cost_matrix, printcost)\n",
    "            elif methods[method] == 'lap_lapjv' and i <= limit[methods[method]]:\n",
    "                methods_data[method] += run_lap_lapjv(\n",
    "                    cost_matrix, printcost)\n",
    "            elif methods[method] == 'lapjv_lapjv' and i <= limit[methods[method]]:\n",
    "                methods_data[method] += run_lapjv_lapjv(\n",
    "                    cost_matrix, printcost)\n",
    "            elif methods[method] == 'lapsolver' and i <= limit[methods[method]]:\n",
    "                methods_data[method] += run_lapsolver(\n",
    "                    cost_matrix, printcost)\n",
    "            elif methods[method] == 'laptools_clap' and i <= limit[methods[method]]:\n",
    "                methods_data[method] += run_laptools_clap(\n",
    "                    cost_matrix, printcost)\n",
    "                # If you want to benchmark a new METHOD, add another ELIF statement here\n",
    "            else:\n",
    "                pass\n",
    "            \n",
    "    # average the timing information from n_cyc cycles\n",
    "    for method in range(len(methods)):\n",
    "        if methods_data[method] != 0:   # to make sure there is timing information\n",
    "            t_methods[method] = np.append(t_methods[method],\n",
    "                                          np.array([[matrix_size, methods_data[method]/ncyc]]), axis=0) "
   ]
  },
  {
   "cell_type": "markdown",
   "metadata": {},
   "source": [
    "## Print timing and version information"
   ]
  },
  {
   "cell_type": "code",
   "execution_count": 16,
   "metadata": {},
   "outputs": [
    {
     "name": "stdout",
     "output_type": "stream",
     "text": [
      "\n",
      "\n",
      "Package Versions for the current run\n",
      "Python -  3.7.6 | packaged by conda-forge | (default, Mar 23 2020, 23:03:20) \n",
      "[GCC 7.3.0]\n",
      "lap  -  0.4.0\n",
      "scipy  -  1.4.1\n",
      "lapsolver  -  1.1.0\n",
      "munkres  -  1.1.2\n",
      "laptools  -  0.1.7\n",
      "\n",
      "\n",
      "   Matrix_dims       8      16      32      64     128     256     512    1024    2048    4096   \n",
      " lapjv_lapjv  [0.00004 0.00003 0.00033 0.00019 0.00032 0.00051 0.00354 0.02118 0.12829 0.74133]\n",
      "   lap_lapjv  [0.00006 0.00004 0.0001  0.00017 0.00026 0.00078 0.00472 0.02717 0.18885 1.05571]\n",
      "       scipy  [0.00008 0.00007 0.00017 0.00023 0.00081 0.00281 0.01242 0.05901 0.31777 1.8795 ]\n",
      "   lapsolver  [0.00002 0.00002 0.00005 0.00012 0.00053 0.00259 0.01277 0.0761  0.43026 2.53644]\n",
      "     munkres  [0.00055 0.00562 0.04261 0.52877 4.62424]\n",
      "laptools_clap  [0.00013 0.00011 0.00015 0.0003  0.00112 0.00352 0.01681 0.07969 0.44575 2.48379]\n"
     ]
    }
   ],
   "source": [
    "#Print version information\n",
    "print(\"\\n\\nPackage Versions for the current run\")\n",
    "print(\"Python - \", sys.version)\n",
    "for method in methods:\n",
    "    tmp=method.split(\"_\")\n",
    "    # hungarian and lapjv don't print version numbers\n",
    "    if tmp[0] != 'hungarian':\n",
    "        if tmp[0] != 'lapjv':\n",
    "            ptmp=__import__(tmp[0])\n",
    "            method_version = ptmp.__version__\n",
    "            print(tmp[0], \" - \", ptmp.__version__)\n",
    "\n",
    "\n",
    "dimensions = t_methods[0][:, [0]]\n",
    "dimensions = dimensions.flatten()\n",
    "print(\"\\n\")\n",
    "print(\"  %12s \" % (\"Matrix_dims\"), end=\" \")\n",
    "np.set_printoptions(suppress=True, precision=5, linewidth=100)\n",
    "for i in range(len(dimensions)):\n",
    "    print('%6d ' % (dimensions[i]), end=\" \")\n",
    "print(\" \")\n",
    "\n",
    "np.set_printoptions(suppress=True, precision=5, linewidth=100)\n",
    "for method in range(len(methods)):\n",
    "    print('%12s ' % (methods[method]), end=\" \")\n",
    "    timings = t_methods[method][:, [1]]\n",
    "    timings = timings.flatten()\n",
    "    print(timings)"
   ]
  },
  {
   "cell_type": "markdown",
   "metadata": {},
   "source": [
    "## Generate a plot\n",
    "Unless 'noplot=True'"
   ]
  },
  {
   "cell_type": "code",
   "execution_count": 17,
   "metadata": {},
   "outputs": [
    {
     "name": "stdout",
     "output_type": "stream",
     "text": [
      "Figure saved to file timing-LAPs-py3-8-8192.png\n"
     ]
    },
    {
     "data": {
      "image/png": "[encoded data removed]",
      "text/plain": [
       "<Figure size 792x612 with 1 Axes>"
      ]
     },
     "metadata": {
      "needs_background": "light"
     },
     "output_type": "display_data"
    }
   ],
   "source": [
    "if noplot:\n",
    "    pass\n",
    "else:\n",
    "    markers = []\n",
    "    markers = ['o', 'v', 's', 'D', 'P', '+', '*', '0', '1', '2']\n",
    "    marker_size = [50]\n",
    "    fig, ax = plt.subplots()\n",
    "    for method in range(len(methods)):\n",
    "        plt.scatter(t_methods[method][:, [0]], t_methods[method][:, [1]],\n",
    "                    s=marker_size, label=methods[method], marker=markers[method])\n",
    "        plt.loglog(t_methods[method][:, [0]], t_methods[method][:, [1]],\n",
    "                   basex=2, basey=10)\n",
    "\n",
    "    plt.grid(True, which=\"both\")\n",
    "    ax.xaxis.set_major_formatter(FormatStrFormatter('%d'))\n",
    "    plt.xlabel('Matrix dimension (2^n)', fontsize=18)\n",
    "    plt.ylabel('Real time to solution (seconds)', fontsize=18)\n",
    "    plt.title('Time to solve LAPs using different methods', fontsize=20)\n",
    "    plt.legend(fontsize=14)\n",
    "    fig_filename = \"timing-LAPs-py3-\" + \\\n",
    "        str(pow(2, minimum)) + \"-\" + str(pow(2, maximum)) + \".png\"\n",
    "    print(\"Figure saved to file %18s\" % (fig_filename))\n",
    "    fig.set_size_inches(11, 8.5)\n",
    "    plt.savefig(fig_filename, bbox_inches='tight', dpi=150)\n",
    "    if showplot:\n",
    "        plt.show()"
   ]
  },
  {
   "cell_type": "markdown",
   "metadata": {},
   "source": [
    "## Notes\n",
    "- compared to benchmarks in 2018 and 2019, the new LAP implementation in `scipy` has gotten much faster. In the past, it was moderately faster than `munkres` and it was too slow to solve anything larger than 512x512 problem, but now it is competitive with most fast implementations. "
   ]
  },
  {
   "cell_type": "code",
   "execution_count": null,
   "metadata": {},
   "outputs": [],
   "source": []
  }
 ],
 "metadata": {
  "jupytext": {
   "cell_metadata_filter": "-all",
   "main_language": "python",
   "notebook_metadata_filter": "-all"
  },
  "kernelspec": {
   "display_name": "_Python3.7",
   "language": "python",
   "name": "python3"
  },
  "language_info": {
   "codemirror_mode": {
    "name": "ipython",
    "version": 3
   },
   "file_extension": ".py",
   "mimetype": "text/x-python",
   "name": "python",
   "nbconvert_exporter": "python",
   "pygments_lexer": "ipython3",
   "version": "3.7.6"
  }
 },
 "nbformat": 4,
 "nbformat_minor": 4
}
