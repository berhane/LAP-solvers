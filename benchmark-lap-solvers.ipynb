{
 "cells": [
  {
   "cell_type": "markdown",
   "metadata": {
    "lines_to_next_cell": 2
   },
   "source": [
    "Tests the performance of linear assignment problem solvers for cost matrices\n",
    "of different sizes.  In particular, we'll be comparing\n",
    "1) linear_sum_assignment - version provided in scipy\n",
    "   https://github.com/scipy/scipy\n",
    "2) munkres - a Python implementation provided by Brian Clapper\n",
    "  https://github.com/bmc/munkres\n",
    "3) hungarian - a wrapper to a C++ implementation Knuth's Hungarian algorithm\n",
    "   provided by Harold Cooper\n",
    "  https://github.com/Hrldcpr/Hungarian\n",
    "4) lap.lapjv - a wrapper to a C++ implementation of Jonker-Volgenant\n",
    "   algorithm provided by Tomas Kazmar\n",
    "  https://github.com/gatagat/lap\n",
    "5) lapjv.lapjv - a wrapper to a C++ implementation of Jonker-Volgenant\n",
    "  algorithm re-written for Python 3 by source{d}\n",
    "  https://github.com/src-d/lapjv\n",
    "6) lapsolver - implementation for dense matrices based on shortest\n",
    "   path augmentation by Christoph Heindl.\n",
    "   Please note that Christioph has also done a benchmark of LAP solvers\n",
    "   https://github.com/cheind/py-lapsolver\n",
    "\n",
    "They all formally have O(n^3) complexity, but their performance\n",
    "differs substantially based on their implementation."
   ]
  },
  {
   "cell_type": "code",
   "execution_count": null,
   "metadata": {},
   "outputs": [],
   "source": [
    "from __future__ import print_function"
   ]
  },
  {
   "cell_type": "code",
   "execution_count": null,
   "metadata": {},
   "outputs": [],
   "source": [
    "import time\n",
    "import argparse\n",
    "import numpy as np\n",
    "import matplotlib.pyplot as plt\n",
    "from matplotlib.ticker import FormatStrFormatter\n",
    "import inspect\n",
    "import sys"
   ]
  },
  {
   "cell_type": "code",
   "execution_count": null,
   "metadata": {},
   "outputs": [],
   "source": [
    "#LAP Solvers\n",
    "import munkres\n",
    "from scipy.optimize import linear_sum_assignment\n",
    "from scipy.optimize import curve_fit\n",
    "import hungarian\n",
    "import lap"
   ]
  },
  {
   "cell_type": "code",
   "execution_count": null,
   "metadata": {
    "lines_to_next_cell": 1
   },
   "outputs": [],
   "source": [
    "#If running Python3, benchmark all implementations\n",
    "if sys.version_info[0] >= 3:\n",
    "    import lapjv\n",
    "    from lapsolver import solve_dense"
   ]
  },
  {
   "cell_type": "code",
   "execution_count": null,
   "metadata": {},
   "outputs": [],
   "source": [
    "def main():\n",
    "\n",
    "    print(sys.version_info[0])\n",
    "\n",
    "    # METHODS being benchmarked -- Add new METHOD[S] here\n",
    "    if sys.version_info[0] >= 3:\n",
    "        methods = [\"lap_lapjv\", \"lapjv_lapjv\", \"lapsolver\", \"hungarian\", \"scipy\", \"munkres\"]\n",
    "    else:\n",
    "        methods = [\"lap_lapjv\", \"hungarian\",\"scipy\", \"munkres\"]\n",
    "\n",
    "    min = int(np.floor(np.log2(args.min)))      # 2^min =  8x8 cost matrix\n",
    "    max = int(np.ceil(np.log2(args.max)))      # 2^max\n",
    "\n",
    "    ncyc = int(args.ncyc)                      # number of cycle\n",
    "\n",
    "    #d_type = str('np.')+str(args.datatype)\n",
    "    #print(d_type)\n",
    "\n",
    "    # LIMITS - add limit for new METHOD[S] here\n",
    "    # The size of the matrix to be solved is limited to 2^{limit['method']}\n",
    "    # for each method to ensure quick termination of the benchmarking\n",
    "    # exercise. Munkres and Scipy are considerably slower, making it\n",
    "    # necessary to limit them to smaller\n",
    "    # matrices\n",
    "    limit = {}\n",
    "    limit['munkres'] = 7\n",
    "    limit['scipy'] = 9\n",
    "    limit['hungarian'] = max\n",
    "    limit['lap_lapjv'] = max\n",
    "    limit['lapjv_lapjv'] = max\n",
    "    limit['lapsolver'] = max\n",
    "    print(\"Solving matrices of sizes up to 2^{n} where n is \" + str(limit))\n",
    "\n",
    "    # arrays to store data\n",
    "    t_methods = [\"t_\" + i for i in methods]\n",
    "    for i in range(len(methods)):\n",
    "        t_methods[i] = np.empty((0, 2), float)\n",
    "    label_methods = [\"label_\" + i for i in methods]\n",
    "    run_methods = [\"run_\" + i for i in methods]\n",
    "\n",
    "    base = 2               # will build matrices of size base^n and solve them\n",
    "\n",
    "    # for matrices of size 2^{min} - 2^{max}\n",
    "    for i in range(min, max):\n",
    "        matrix_size = pow(base, i)\n",
    "        #print((\"\\n\" +  str(matrix_size) + \" x \" + str(matrix_size) + \" ... cycle \") ,end=\" \")\n",
    "        print((\"\\n\" + str(matrix_size) + \" x \" + str(matrix_size) + \" ... \"))\n",
    "        methods_data = np.zeros(len(methods), float)\n",
    "        # Generate n_cyc random matrices and solve them using different methods\n",
    "        for j in range(ncyc):\n",
    "            cost_matrix = matrix_size * \\\n",
    "                np.random.random((matrix_size, matrix_size))\n",
    "            #cost_matrix=mat.astype(str(datatype))\n",
    "            #cost_matrix=recast_mat(mat, str(datatype))\n",
    "            #print((str(j) + \" \"), end=\" \")\n",
    "            print(\"Cycle \", (str(j) + \" \"))\n",
    "            # print(\"\\n\")\n",
    "            # print(cost_matrix)\n",
    "            for method in range(len(methods)):\n",
    "                # print '%20s\\t' %(methods[method])\n",
    "                if methods[method] == 'munkres' and i <= limit[methods[method]]:\n",
    "                    methods_data[method] += run_munkres(\n",
    "                        cost_matrix, args.printcost)\n",
    "                elif methods[method] == 'scipy' and i <= limit[methods[method]]:\n",
    "                    real_time = run_scipy(cost_matrix, args.printcost)\n",
    "                    methods_data[method] += real_time\n",
    "                elif methods[method] == 'hungarian' and i <= limit[methods[method]]:\n",
    "                    methods_data[method] += run_hungarian(\n",
    "                        cost_matrix, args.printcost)\n",
    "                elif methods[method] == 'lap_lapjv' and i <= limit[methods[method]]:\n",
    "                    methods_data[method] += run_lap_lapjv(\n",
    "                        cost_matrix, args.printcost)\n",
    "                elif methods[method] == 'lapjv_lapjv' and i <= limit[methods[method]]:\n",
    "                    methods_data[method] += run_lapjv_lapjv(\n",
    "                        cost_matrix, args.printcost)\n",
    "                elif methods[method] == 'lapsolver' and i <= limit[methods[method]]:\n",
    "                    methods_data[method] += run_lapsolver(\n",
    "                        cost_matrix, args.printcost)\n",
    "                    # If you want to benchmark a new METHOD, add another ELIF statement here\n",
    "                else:\n",
    "                    pass\n",
    "\n",
    "        # average the timing information from n_cyc cycles\n",
    "        for method in range(len(methods)):\n",
    "            if methods_data[method] != 0:   # to make sure there is timing information\n",
    "                t_methods[method] = np.append(t_methods[method],\n",
    "                                              np.array([[matrix_size, methods_data[method]/ncyc]]), axis=0)\n",
    "\n",
    "    # print timing information to screen\n",
    "    dimensions = t_methods[0][:, [0]]\n",
    "    dimensions = dimensions.flatten()\n",
    "    print(\"\\n\")\n",
    "    print(\"  %12s \" % (\"Matrix_size\"), end=\" \")\n",
    "    np.set_printoptions(suppress=True, precision=5, linewidth=100)\n",
    "    for i in range(len(dimensions)):\n",
    "        print('%6d ' % (dimensions[i]), end=\" \")\n",
    "    print(\" \")\n",
    "\n",
    "    np.set_printoptions(suppress=True, precision=5, linewidth=100)\n",
    "    for method in range(len(methods)):\n",
    "        print('%12s ' % (methods[method]), end=\" \")\n",
    "        timings = t_methods[method][:, [1]]\n",
    "        timings = timings.flatten()\n",
    "        print(timings)\n",
    "\n",
    "    # generate a plot (by default), unless 'no plot' option is selection\n",
    "    if args.noplot:\n",
    "        pass\n",
    "    else:\n",
    "        markers = []\n",
    "        markers = ['o', 'v', 's', 'D', 'P', '+', '*', '0', '1', '2']\n",
    "        marker_size = [50]\n",
    "        fig, ax = plt.subplots()\n",
    "        for method in range(len(methods)):\n",
    "            plt.scatter(t_methods[method][:, [0]], t_methods[method][:, [1]],\n",
    "                        s=marker_size, label=methods[method], marker=markers[method])\n",
    "            plt.loglog(t_methods[method][:, [0]], t_methods[method][:, [1]],\n",
    "                       basex=2, basey=10)\n",
    "\n",
    "        plt.grid(True, which=\"both\")\n",
    "        ax.xaxis.set_major_formatter(FormatStrFormatter('%d'))\n",
    "        plt.xlabel('Matrix dimension (2^n)', fontsize=18)\n",
    "        plt.ylabel('Real time to solution (seconds)', fontsize=18)\n",
    "        plt.title('Time to solve LAPs using different modules', fontsize=20)\n",
    "        plt.legend(fontsize=14)\n",
    "        fig_filename = \"timing-LAPs-py3-\" + \\\n",
    "            str(pow(2, min)) + \"-\" + str(pow(2, max)) + \".png\"\n",
    "        print(\"Figure saved to file %18s\" % (fig_filename))\n",
    "        fig.set_size_inches(11, 8.5)\n",
    "        plt.savefig(fig_filename, bbox_inches='tight', dpi=150)\n",
    "        if args.showplot:\n",
    "            plt.show()"
   ]
  },
  {
   "cell_type": "markdown",
   "metadata": {
    "lines_to_next_cell": 2
   },
   "source": [
    "Solve LAP using different methods\n",
    "LAPJV"
   ]
  },
  {
   "cell_type": "code",
   "execution_count": null,
   "metadata": {},
   "outputs": [],
   "source": [
    "def run_lap_lapjv(matrix, printlowestcost):\n",
    "    #print module name\n",
    "    temp = inspect.stack()[0][3]\n",
    "    method_name=temp[4:]\n",
    "    print(\" %s\" % ( method_name ) )\n",
    "\n",
    "    #start timing\n",
    "    t_start = time.time()\n",
    "    lowest_cost, row_ind, column_ind = lap.lapjv(matrix)\n",
    "    t_end = time.time()\n",
    "    #end timing\n",
    "\n",
    "    #print minimum cost information with varying verbosity\n",
    "    if printlowestcost:\n",
    "        if args.verbose:\n",
    "            lowest_cost = 0.00\n",
    "            for i in range(len(row_ind)):\n",
    "                lowest_cost += matrix[i, row_ind[i]]\n",
    "                print(\"%18s %6d %5.3f\" % (\"      \", i ,lowest_cost))\n",
    "        print(\"  %12s %s %5.3f\" % (method_name, \"minimum cost\", lowest_cost))\n",
    "\n",
    "    del row_ind\n",
    "    del column_ind\n",
    "    return t_end-t_start"
   ]
  },
  {
   "cell_type": "markdown",
   "metadata": {
    "lines_to_next_cell": 2
   },
   "source": [
    "LAPJV.LAPJV"
   ]
  },
  {
   "cell_type": "code",
   "execution_count": null,
   "metadata": {},
   "outputs": [],
   "source": [
    "def run_lapjv_lapjv(matrix, printlowestcost):\n",
    "    temp = inspect.stack()[0][3]\n",
    "    method_name=temp[4:]\n",
    "    print(\" %s\" % ( method_name ) )\n",
    "\n",
    "    t_start = time.time()\n",
    "    row_ind, column_ind, _ = lapjv.lapjv(matrix)\n",
    "    t_end = time.time()\n",
    "\n",
    "    if printlowestcost:\n",
    "        lowest_cost = 0.00\n",
    "        for i in range(len(row_ind)):\n",
    "            lowest_cost += matrix[i, row_ind[i]]\n",
    "            if args.verbose:\n",
    "                print(\"%18s  %6d  %5.3f\" % (\"      \", i ,lowest_cost))\n",
    "        print(\"  %12s %s %5.3f\" % (method_name, \"minimum cost\", lowest_cost))\n",
    "\n",
    "    del row_ind\n",
    "    del column_ind\n",
    "    return t_end-t_start"
   ]
  },
  {
   "cell_type": "markdown",
   "metadata": {
    "lines_to_next_cell": 2
   },
   "source": [
    "LAPSOLVER"
   ]
  },
  {
   "cell_type": "code",
   "execution_count": null,
   "metadata": {},
   "outputs": [],
   "source": [
    "def run_lapsolver(matrix, printlowestcost):\n",
    "    temp = inspect.stack()[0][3]\n",
    "    method_name=temp[4:]\n",
    "    print(\" %s\" % ( method_name ) )\n",
    "\n",
    "    t_start = time.time()\n",
    "    row_ind, column_ind = solve_dense(matrix)\n",
    "    t_end = time.time()\n",
    "\n",
    "    if printlowestcost:\n",
    "        lowest_cost = 0.00\n",
    "        lowest_cost = matrix[row_ind, column_ind].sum()\n",
    "        print(\"  %12s %s %5.3f\" % (method_name, \"minimum cost\", lowest_cost))\n",
    "\n",
    "    del row_ind\n",
    "    del column_ind\n",
    "    return t_end-t_start"
   ]
  },
  {
   "cell_type": "markdown",
   "metadata": {
    "lines_to_next_cell": 2
   },
   "source": [
    "Hungarian"
   ]
  },
  {
   "cell_type": "code",
   "execution_count": null,
   "metadata": {},
   "outputs": [],
   "source": [
    "def run_hungarian(matrix, printlowestcost):\n",
    "    temp = inspect.stack()[0][3]\n",
    "    method_name=temp[4:]\n",
    "    print(\" %s\" % ( method_name ) )\n",
    "\n",
    "    t_start = time.time()\n",
    "    hung_mat = np.copy(matrix)\n",
    "    row_ind, column_ind = hungarian.lap(hung_mat)\n",
    "    t_end = time.time()\n",
    "\n",
    "    if printlowestcost:\n",
    "        lowest_cost = 0.00\n",
    "        for i in range(len(row_ind)):\n",
    "            lowest_cost += matrix[i, row_ind[i]]\n",
    "            if args.verbose:\n",
    "                print(\"%18s  %6d  %5.3f\" % (\"      \", i ,lowest_cost))\n",
    "        print(\"  %12s %s %5.3f\" % (method_name, \"minimum cost\", lowest_cost))\n",
    "\n",
    "    del row_ind\n",
    "    del column_ind\n",
    "    del hung_mat\n",
    "    return t_end-t_start"
   ]
  },
  {
   "cell_type": "markdown",
   "metadata": {
    "lines_to_next_cell": 2
   },
   "source": [
    "Scipy-linear_sum_assignment"
   ]
  },
  {
   "cell_type": "code",
   "execution_count": null,
   "metadata": {},
   "outputs": [],
   "source": [
    "def run_scipy(matrix, printlowestcost):\n",
    "    temp = inspect.stack()[0][3]\n",
    "    method_name=temp[4:]\n",
    "    print(\" %s\" % ( method_name ) )\n",
    "\n",
    "    t_start = time.time()\n",
    "    row_ind, column_ind = linear_sum_assignment(matrix)\n",
    "    t_end = time.time()\n",
    "\n",
    "    if printlowestcost:\n",
    "        lowest_cost = 0.00\n",
    "        lowest_cost = matrix[row_ind, column_ind].sum()\n",
    "        print(\"  %12s %s %5.3f\" % (method_name, \"minimum cost\", lowest_cost))\n",
    "\n",
    "    del row_ind\n",
    "    del column_ind\n",
    "    return t_end-t_start"
   ]
  },
  {
   "cell_type": "markdown",
   "metadata": {
    "lines_to_next_cell": 2
   },
   "source": [
    "Munkres"
   ]
  },
  {
   "cell_type": "code",
   "execution_count": null,
   "metadata": {},
   "outputs": [],
   "source": [
    "def run_munkres(matrix, printlowestcost):\n",
    "    temp = inspect.stack()[0][3]\n",
    "    method_name=temp[4:]\n",
    "    print(\" %s\" % ( method_name ) )\n",
    "\n",
    "    t_start = time.time()\n",
    "    munk_mat = np.copy(matrix)\n",
    "    m = munkres.Munkres()\n",
    "    indices = m.compute(matrix)\n",
    "    t_end = time.time()\n",
    "\n",
    "    if printlowestcost:\n",
    "        columns = [x[1] for x in indices]\n",
    "        lowest_cost = 0.00\n",
    "        for i in range(len(columns)):\n",
    "            lowest_cost += munk_mat[i, columns[i]]\n",
    "            if args.verbose:\n",
    "                print(\"%18s  %6d  %5.3f\" % (\"      \", i ,lowest_cost))\n",
    "        print(\"  %12s %s %5.3f\" % (method_name, \"minimum cost\", lowest_cost))\n",
    "\n",
    "    del indices\n",
    "    del munk_mat\n",
    "    return t_end-t_start"
   ]
  },
  {
   "cell_type": "markdown",
   "metadata": {
    "lines_to_next_cell": 2
   },
   "source": [
    "NEW METHOD\n",
    "Add function run_METHOD to get timing for method that method"
   ]
  },
  {
   "cell_type": "code",
   "execution_count": null,
   "metadata": {},
   "outputs": [],
   "source": [
    "if __name__ == \"__main__\":\n",
    "    # Parse arguments and provide usage information\n",
    "    description = \"\"\"\n",
    "    Benchmarks the performance of linear assignment problem solvers for\n",
    "    random cost matrices of different dimensions.\n",
    "    \"\"\"\n",
    "    epilog = \"\"\"\n",
    "    The script  will produce the following:\n",
    "    1) data of timing for LAP solving random cost matrices of\n",
    "    dimensions 2^{min} - 2^{max}\n",
    "    2) plot of timing for LAP solving random cost matrices of\n",
    "    dimensions 2^{min} - 2^{max}\n",
    "    \"\"\"\n",
    "    parser = argparse.ArgumentParser(\n",
    "        description=description, formatter_class=argparse.RawDescriptionHelpFormatter, epilog=epilog)\n",
    "    parser.add_argument('-c', '--printcost', action='store_true', help='Print the minimum cost.\\\n",
    "           The default is false, i.e. will not print the minimum cost')\n",
    "    parser.add_argument('-v', '--verbose', action='store_true', help='Determines verbosity. \\\n",
    "           The default is minimal printing, i.e. not verbose')\n",
    "    parser.add_argument('-np', '--noplot', action='store_true', help='Do not plot data using matplotlib. \\\n",
    "           The default is to save plot of the data in PNG format, but not open the plot GUI')\n",
    "    parser.add_argument('-sp', '--showplot', action='store_true', help='Show plot of data using matplotlib. \\\n",
    "           The default is to save plot of the data in PNG format, but not open the plot GUI')\n",
    "    parser.add_argument('--min', metavar='min', nargs='?', type=int, default=8,\n",
    "           help='minimum dimension of cost matrix to solve. \\\n",
    "           The default is 8 (2^3 x 2^3)')\n",
    "    parser.add_argument('--max', metavar='max', nargs='?', type=int, default=4096,\n",
    "           help='maximum dimension of cost matrix to solve. \\\n",
    "           The default is 4096 (2^12 x 2^12)')\n",
    "    parser.add_argument('--ncyc', metavar='ncyc', nargs='?', type=int, default=3,\n",
    "            help='number of times to solve cost matrices and average their timing. \\\n",
    "           The default is 3 cycles')\n",
    "    args = parser.parse_args()\n",
    "#    parser.add_argument('-d', '--datatype', type=str, choices=['int8', 'int16', 'int32', 'int64', \\\n",
    "#    'uint8', 'uint16', 'uint32', 'uint64', \\\n",
    "#    'float', 'float16', 'float32', 'float64'], default='float', \\\n",
    "#    help='NumPy random matrix data type. The default is float or float64')\n",
    "\n",
    "    main()"
   ]
  }
 ],
 "metadata": {
  "jupytext": {
   "cell_metadata_filter": "-all",
   "main_language": "python",
   "notebook_metadata_filter": "-all"
  }
 },
 "nbformat": 4,
 "nbformat_minor": 2
}
